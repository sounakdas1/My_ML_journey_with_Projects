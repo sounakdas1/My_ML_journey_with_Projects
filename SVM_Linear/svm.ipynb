{
 "cells": [
  {
   "cell_type": "code",
   "execution_count": 51,
   "metadata": {},
   "outputs": [],
   "source": [
    "import pandas as pd\n",
    "import numpy as np\n",
    "from sklearn.preprocessing import  StandardScaler,LabelEncoder\n",
    "from sklearn.model_selection import train_test_split,GridSearchCV\n",
    "from sklearn.svm import LinearSVC,SVC\n",
    "from sklearn.metrics import  accuracy_score,classification_report\n",
    "import seaborn as sns\n",
    "import  matplotlib.pyplot as plt"
   ]
  },
  {
   "cell_type": "code",
   "execution_count": 52,
   "metadata": {},
   "outputs": [
    {
     "data": {
      "application/vnd.microsoft.datawrangler.viewer.v0+json": {
       "columns": [
        {
         "name": "index",
         "rawType": "int64",
         "type": "integer"
        },
        {
         "name": "Area",
         "rawType": "int64",
         "type": "integer"
        },
        {
         "name": "Perimeter",
         "rawType": "float64",
         "type": "float"
        },
        {
         "name": "Major_Axis_Length",
         "rawType": "float64",
         "type": "float"
        },
        {
         "name": "Minor_Axis_Length",
         "rawType": "float64",
         "type": "float"
        },
        {
         "name": "Convex_Area",
         "rawType": "int64",
         "type": "integer"
        },
        {
         "name": "Equiv_Diameter",
         "rawType": "float64",
         "type": "float"
        },
        {
         "name": "Eccentricity",
         "rawType": "float64",
         "type": "float"
        },
        {
         "name": "Solidity",
         "rawType": "float64",
         "type": "float"
        },
        {
         "name": "Extent",
         "rawType": "float64",
         "type": "float"
        },
        {
         "name": "Roundness",
         "rawType": "float64",
         "type": "float"
        },
        {
         "name": "Aspect_Ration",
         "rawType": "float64",
         "type": "float"
        },
        {
         "name": "Compactness",
         "rawType": "float64",
         "type": "float"
        },
        {
         "name": "Class",
         "rawType": "object",
         "type": "string"
        }
       ],
       "conversionMethod": "pd.DataFrame",
       "ref": "68fdb1dd-8d8b-4c2c-ad3f-be4f6f152545",
       "rows": [
        [
         "0",
         "56276",
         "888.242",
         "326.1485",
         "220.2388",
         "56831",
         "267.6805",
         "0.7376",
         "0.9902",
         "0.7453",
         "0.8963",
         "1.4809",
         "0.8207",
         "Çerçevelik"
        ],
        [
         "1",
         "76631",
         "1068.146",
         "417.1932",
         "234.2289",
         "77280",
         "312.3614",
         "0.8275",
         "0.9916",
         "0.7151",
         "0.844",
         "1.7811",
         "0.7487",
         "Çerçevelik"
        ],
        [
         "2",
         "71623",
         "1082.987",
         "435.8328",
         "211.0457",
         "72663",
         "301.9822",
         "0.8749",
         "0.9857",
         "0.74",
         "0.7674",
         "2.0651",
         "0.6929",
         "Çerçevelik"
        ],
        [
         "3",
         "66458",
         "992.051",
         "381.5638",
         "222.5322",
         "67118",
         "290.8899",
         "0.8123",
         "0.9902",
         "0.7396",
         "0.8486",
         "1.7146",
         "0.7624",
         "Çerçevelik"
        ],
        [
         "4",
         "66107",
         "998.146",
         "383.8883",
         "220.4545",
         "67117",
         "290.1207",
         "0.8187",
         "0.985",
         "0.6752",
         "0.8338",
         "1.7413",
         "0.7557",
         "Çerçevelik"
        ]
       ],
       "shape": {
        "columns": 13,
        "rows": 5
       }
      },
      "text/html": [
       "<div>\n",
       "<style scoped>\n",
       "    .dataframe tbody tr th:only-of-type {\n",
       "        vertical-align: middle;\n",
       "    }\n",
       "\n",
       "    .dataframe tbody tr th {\n",
       "        vertical-align: top;\n",
       "    }\n",
       "\n",
       "    .dataframe thead th {\n",
       "        text-align: right;\n",
       "    }\n",
       "</style>\n",
       "<table border=\"1\" class=\"dataframe\">\n",
       "  <thead>\n",
       "    <tr style=\"text-align: right;\">\n",
       "      <th></th>\n",
       "      <th>Area</th>\n",
       "      <th>Perimeter</th>\n",
       "      <th>Major_Axis_Length</th>\n",
       "      <th>Minor_Axis_Length</th>\n",
       "      <th>Convex_Area</th>\n",
       "      <th>Equiv_Diameter</th>\n",
       "      <th>Eccentricity</th>\n",
       "      <th>Solidity</th>\n",
       "      <th>Extent</th>\n",
       "      <th>Roundness</th>\n",
       "      <th>Aspect_Ration</th>\n",
       "      <th>Compactness</th>\n",
       "      <th>Class</th>\n",
       "    </tr>\n",
       "  </thead>\n",
       "  <tbody>\n",
       "    <tr>\n",
       "      <th>0</th>\n",
       "      <td>56276</td>\n",
       "      <td>888.242</td>\n",
       "      <td>326.1485</td>\n",
       "      <td>220.2388</td>\n",
       "      <td>56831</td>\n",
       "      <td>267.6805</td>\n",
       "      <td>0.7376</td>\n",
       "      <td>0.9902</td>\n",
       "      <td>0.7453</td>\n",
       "      <td>0.8963</td>\n",
       "      <td>1.4809</td>\n",
       "      <td>0.8207</td>\n",
       "      <td>Çerçevelik</td>\n",
       "    </tr>\n",
       "    <tr>\n",
       "      <th>1</th>\n",
       "      <td>76631</td>\n",
       "      <td>1068.146</td>\n",
       "      <td>417.1932</td>\n",
       "      <td>234.2289</td>\n",
       "      <td>77280</td>\n",
       "      <td>312.3614</td>\n",
       "      <td>0.8275</td>\n",
       "      <td>0.9916</td>\n",
       "      <td>0.7151</td>\n",
       "      <td>0.8440</td>\n",
       "      <td>1.7811</td>\n",
       "      <td>0.7487</td>\n",
       "      <td>Çerçevelik</td>\n",
       "    </tr>\n",
       "    <tr>\n",
       "      <th>2</th>\n",
       "      <td>71623</td>\n",
       "      <td>1082.987</td>\n",
       "      <td>435.8328</td>\n",
       "      <td>211.0457</td>\n",
       "      <td>72663</td>\n",
       "      <td>301.9822</td>\n",
       "      <td>0.8749</td>\n",
       "      <td>0.9857</td>\n",
       "      <td>0.7400</td>\n",
       "      <td>0.7674</td>\n",
       "      <td>2.0651</td>\n",
       "      <td>0.6929</td>\n",
       "      <td>Çerçevelik</td>\n",
       "    </tr>\n",
       "    <tr>\n",
       "      <th>3</th>\n",
       "      <td>66458</td>\n",
       "      <td>992.051</td>\n",
       "      <td>381.5638</td>\n",
       "      <td>222.5322</td>\n",
       "      <td>67118</td>\n",
       "      <td>290.8899</td>\n",
       "      <td>0.8123</td>\n",
       "      <td>0.9902</td>\n",
       "      <td>0.7396</td>\n",
       "      <td>0.8486</td>\n",
       "      <td>1.7146</td>\n",
       "      <td>0.7624</td>\n",
       "      <td>Çerçevelik</td>\n",
       "    </tr>\n",
       "    <tr>\n",
       "      <th>4</th>\n",
       "      <td>66107</td>\n",
       "      <td>998.146</td>\n",
       "      <td>383.8883</td>\n",
       "      <td>220.4545</td>\n",
       "      <td>67117</td>\n",
       "      <td>290.1207</td>\n",
       "      <td>0.8187</td>\n",
       "      <td>0.9850</td>\n",
       "      <td>0.6752</td>\n",
       "      <td>0.8338</td>\n",
       "      <td>1.7413</td>\n",
       "      <td>0.7557</td>\n",
       "      <td>Çerçevelik</td>\n",
       "    </tr>\n",
       "  </tbody>\n",
       "</table>\n",
       "</div>"
      ],
      "text/plain": [
       "    Area  Perimeter  Major_Axis_Length  Minor_Axis_Length  Convex_Area  \\\n",
       "0  56276    888.242           326.1485           220.2388        56831   \n",
       "1  76631   1068.146           417.1932           234.2289        77280   \n",
       "2  71623   1082.987           435.8328           211.0457        72663   \n",
       "3  66458    992.051           381.5638           222.5322        67118   \n",
       "4  66107    998.146           383.8883           220.4545        67117   \n",
       "\n",
       "   Equiv_Diameter  Eccentricity  Solidity  Extent  Roundness  Aspect_Ration  \\\n",
       "0        267.6805        0.7376    0.9902  0.7453     0.8963         1.4809   \n",
       "1        312.3614        0.8275    0.9916  0.7151     0.8440         1.7811   \n",
       "2        301.9822        0.8749    0.9857  0.7400     0.7674         2.0651   \n",
       "3        290.8899        0.8123    0.9902  0.7396     0.8486         1.7146   \n",
       "4        290.1207        0.8187    0.9850  0.6752     0.8338         1.7413   \n",
       "\n",
       "   Compactness       Class  \n",
       "0       0.8207  Çerçevelik  \n",
       "1       0.7487  Çerçevelik  \n",
       "2       0.6929  Çerçevelik  \n",
       "3       0.7624  Çerçevelik  \n",
       "4       0.7557  Çerçevelik  "
      ]
     },
     "execution_count": 52,
     "metadata": {},
     "output_type": "execute_result"
    }
   ],
   "source": [
    "df  = pd.read_csv(\"Pumpkin_Seeds_Dataset.csv\")\n",
    "df.head()"
   ]
  },
  {
   "cell_type": "code",
   "execution_count": 53,
   "metadata": {},
   "outputs": [
    {
     "data": {
      "text/plain": [
       "Area                 False\n",
       "Perimeter            False\n",
       "Major_Axis_Length    False\n",
       "Minor_Axis_Length    False\n",
       "Convex_Area          False\n",
       "Equiv_Diameter       False\n",
       "Eccentricity         False\n",
       "Solidity             False\n",
       "Extent               False\n",
       "Roundness            False\n",
       "Aspect_Ration        False\n",
       "Compactness          False\n",
       "Class                False\n",
       "dtype: bool"
      ]
     },
     "execution_count": 53,
     "metadata": {},
     "output_type": "execute_result"
    }
   ],
   "source": [
    "df.isnull().any()"
   ]
  },
  {
   "cell_type": "code",
   "execution_count": 54,
   "metadata": {},
   "outputs": [],
   "source": [
    "x = df.drop('Class',axis=1)\n",
    "enc = LabelEncoder()\n",
    "y = df['Class'] = enc.fit_transform(df['Class'])"
   ]
  },
  {
   "cell_type": "code",
   "execution_count": 55,
   "metadata": {},
   "outputs": [],
   "source": [
    "model = SVC(C=1.0, kernel='linear')"
   ]
  },
  {
   "cell_type": "code",
   "execution_count": 56,
   "metadata": {},
   "outputs": [
    {
     "name": "stdout",
     "output_type": "stream",
     "text": [
      "0.874\n"
     ]
    }
   ],
   "source": [
    "scalar = StandardScaler()\n",
    "X_train , X_test ,Y_train , Y_test = train_test_split(x,y,test_size=0.2,random_state=42,stratify=y)\n",
    "X_train = scalar.fit_transform(X_train)\n",
    "X_test = scalar.transform(X_test)\n",
    "\n",
    "model.fit(X_train,Y_train)\n",
    "Y_pred = model.predict(X_test)\n",
    "\n",
    "print(accuracy_score(Y_test,Y_pred))"
   ]
  },
  {
   "cell_type": "code",
   "execution_count": 57,
   "metadata": {},
   "outputs": [
    {
     "name": "stdout",
     "output_type": "stream",
     "text": [
      "Best C: 100\n",
      "Best Accuracy: 0.8869999999999999\n"
     ]
    }
   ],
   "source": [
    "param_grid = {'C': [0.01, 0.1, 1, 10, 100]}\n",
    "svm = SVC(kernel='linear')\n",
    "\n",
    "grid_search = GridSearchCV(svm, param_grid, cv=5, scoring='accuracy')\n",
    "grid_search.fit(X_train, Y_train)\n",
    "\n",
    "print(\"Best C:\", grid_search.best_params_['C'])\n",
    "print(\"Best Accuracy:\", grid_search.best_score_)"
   ]
  },
  {
   "cell_type": "code",
   "execution_count": null,
   "metadata": {},
   "outputs": [],
   "source": []
  },
  {
   "cell_type": "code",
   "execution_count": null,
   "metadata": {},
   "outputs": [],
   "source": []
  }
 ],
 "metadata": {
  "kernelspec": {
   "display_name": "Python 3",
   "language": "python",
   "name": "python3"
  },
  "language_info": {
   "codemirror_mode": {
    "name": "ipython",
    "version": 3
   },
   "file_extension": ".py",
   "mimetype": "text/x-python",
   "name": "python",
   "nbconvert_exporter": "python",
   "pygments_lexer": "ipython3",
   "version": "3.12.4"
  }
 },
 "nbformat": 4,
 "nbformat_minor": 2
}
