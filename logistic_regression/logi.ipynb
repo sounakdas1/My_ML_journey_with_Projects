{
 "cells": [
  {
   "cell_type": "code",
   "execution_count": 1,
   "metadata": {},
   "outputs": [],
   "source": [
    "import pandas as pd\n",
    "import numpy as np\n",
    "import seaborn as sns\n",
    "import matplotlib.pyplot as plt\n"
   ]
  },
  {
   "cell_type": "code",
   "execution_count": 2,
   "metadata": {},
   "outputs": [
    {
     "name": "stdout",
     "output_type": "stream",
     "text": [
      "Index(['male', 'age', 'education', 'currentSmoker', 'cigsPerDay', 'BPMeds',\n",
      "       'prevalentStroke', 'prevalentHyp', 'diabetes', 'totChol', 'sysBP',\n",
      "       'diaBP', 'BMI', 'heartRate', 'glucose', 'TenYearCHD'],\n",
      "      dtype='object')\n",
      "male                 int64\n",
      "age                  int64\n",
      "education          float64\n",
      "currentSmoker        int64\n",
      "cigsPerDay         float64\n",
      "BPMeds             float64\n",
      "prevalentStroke      int64\n",
      "prevalentHyp         int64\n",
      "diabetes             int64\n",
      "totChol            float64\n",
      "sysBP              float64\n",
      "diaBP              float64\n",
      "BMI                float64\n",
      "heartRate          float64\n",
      "glucose            float64\n",
      "TenYearCHD           int64\n",
      "dtype: object\n"
     ]
    }
   ],
   "source": [
    "df = pd.read_csv('framingham.csv')\n",
    "print(df.columns)\n",
    "print(df.dtypes)\n"
   ]
  },
  {
   "cell_type": "code",
   "execution_count": 3,
   "metadata": {},
   "outputs": [
    {
     "data": {
      "text/plain": [
       "male               0\n",
       "age                0\n",
       "education          0\n",
       "currentSmoker      0\n",
       "cigsPerDay         0\n",
       "BPMeds             0\n",
       "prevalentStroke    0\n",
       "prevalentHyp       0\n",
       "diabetes           0\n",
       "totChol            0\n",
       "sysBP              0\n",
       "diaBP              0\n",
       "BMI                0\n",
       "heartRate          0\n",
       "glucose            0\n",
       "TenYearCHD         0\n",
       "dtype: int64"
      ]
     },
     "execution_count": 3,
     "metadata": {},
     "output_type": "execute_result"
    }
   ],
   "source": [
    "df.isnull().sum()\n",
    "df.fillna(df.median(),inplace=True)\n",
    "df.isnull().sum()"
   ]
  },
  {
   "cell_type": "code",
   "execution_count": 4,
   "metadata": {},
   "outputs": [],
   "source": [
    "from sklearn.model_selection import train_test_split\n",
    "from sklearn.preprocessing import StandardScaler\n",
    "from sklearn.linear_model import LogisticRegression\n",
    "from sklearn.metrics import accuracy_score, classification_report, confusion_matrix"
   ]
  },
  {
   "cell_type": "code",
   "execution_count": 5,
   "metadata": {},
   "outputs": [],
   "source": [
    "X = df.drop('TenYearCHD', axis = 1)\n",
    "y = df['TenYearCHD']"
   ]
  },
  {
   "cell_type": "code",
   "execution_count": 6,
   "metadata": {},
   "outputs": [
    {
     "data": {
      "text/plain": [
       "1767    0\n",
       "2947    0\n",
       "888     0\n",
       "2026    0\n",
       "2696    0\n",
       "       ..\n",
       "3518    0\n",
       "3040    0\n",
       "2561    0\n",
       "3824    0\n",
       "2273    0\n",
       "Name: TenYearCHD, Length: 3390, dtype: int64"
      ]
     },
     "execution_count": 6,
     "metadata": {},
     "output_type": "execute_result"
    }
   ],
   "source": [
    "\n",
    "X_train,X_test,y_train,y_test = train_test_split(X,y,\n",
    "                                    test_size = 0.20, random_state=42, stratify=y)\n",
    "y_train"
   ]
  },
  {
   "cell_type": "code",
   "execution_count": 8,
   "metadata": {},
   "outputs": [
    {
     "name": "stdout",
     "output_type": "stream",
     "text": [
      "[[-0.87237547  0.16042193  0.02064907 ... -0.24406401 -0.49272528\n",
      "   0.06054382]\n",
      " [-0.87237547  1.09443712  0.02064907 ...  0.16146534  0.17311306\n",
      "   0.2779168 ]\n",
      " [ 1.14629541  0.86093332 -0.96527151 ...  0.52571325 -1.07533383\n",
      "  -0.54810051]\n",
      " ...\n",
      " [-0.87237547 -0.54008946  1.99249024 ... -0.35576671  0.17311306\n",
      "   0.10401842]\n",
      " [-0.87237547 -1.24060085  1.00656966 ... -0.59617033 -0.99210403\n",
      "   0.10401842]\n",
      " [-0.87237547 -0.54008946 -0.96527151 ...  0.54513981 -0.15980611\n",
      "  -0.15682915]]\n"
     ]
    }
   ],
   "source": [
    "sc = StandardScaler()\n",
    "\n",
    "X_train = sc.fit_transform(X_train)\n",
    "X_test = sc.transform(X_test)\n",
    "print(X_train)"
   ]
  },
  {
   "cell_type": "code",
   "execution_count": 9,
   "metadata": {},
   "outputs": [
    {
     "name": "stdout",
     "output_type": "stream",
     "text": [
      "Accuracy: 0.85\n",
      "              precision    recall  f1-score   support\n",
      "\n",
      "           0       0.86      0.99      0.92       719\n",
      "           1       0.50      0.07      0.12       129\n",
      "\n",
      "    accuracy                           0.85       848\n",
      "   macro avg       0.68      0.53      0.52       848\n",
      "weighted avg       0.80      0.85      0.80       848\n",
      "\n"
     ]
    }
   ],
   "source": [
    "model = LogisticRegression()\n",
    "model.fit(X_train,y_train)\n",
    "y_pred = model.predict(X_test)\n",
    "accuracy = accuracy_score(y_test, y_pred)\n",
    "print(f\"Accuracy: {accuracy:.2f}\")\n",
    "print(classification_report(y_test, y_pred))"
   ]
  },
  {
   "cell_type": "code",
   "execution_count": 14,
   "metadata": {},
   "outputs": [
    {
     "name": "stdout",
     "output_type": "stream",
     "text": [
      "Optimization terminated successfully.\n",
      "         Current function value: 0.374228\n",
      "         Iterations 7\n",
      "                           Logit Regression Results                           \n",
      "==============================================================================\n",
      "Dep. Variable:             TenYearCHD   No. Observations:                 3390\n",
      "Model:                          Logit   Df Residuals:                     3374\n",
      "Method:                           MLE   Df Model:                           15\n",
      "Date:                Thu, 27 Mar 2025   Pseudo R-squ.:                  0.1216\n",
      "Time:                        21:15:25   Log-Likelihood:                -1268.6\n",
      "converged:                       True   LL-Null:                       -1444.2\n",
      "Covariance Type:            nonrobust   LLR p-value:                 1.205e-65\n",
      "==============================================================================\n",
      "                 coef    std err          z      P>|z|      [0.025      0.975]\n",
      "------------------------------------------------------------------------------\n",
      "const         -2.0012      0.060    -33.631      0.000      -2.118      -1.885\n",
      "x1             0.2264      0.056      4.022      0.000       0.116       0.337\n",
      "x2             0.5725      0.060      9.496      0.000       0.454       0.691\n",
      "x3             0.0023      0.052      0.044      0.965      -0.100       0.105\n",
      "x4            -0.0328      0.082     -0.401      0.688      -0.193       0.127\n",
      "x5             0.3184      0.076      4.165      0.000       0.169       0.468\n",
      "x6             0.0583      0.041      1.415      0.157      -0.022       0.139\n",
      "x7             0.0828      0.038      2.172      0.030       0.008       0.158\n",
      "x8             0.0788      0.067      1.179      0.238      -0.052       0.210\n",
      "x9             0.0212      0.053      0.397      0.691      -0.083       0.126\n",
      "x10            0.0996      0.051      1.936      0.053      -0.001       0.200\n",
      "x11            0.3258      0.088      3.704      0.000       0.153       0.498\n",
      "x12           -0.0143      0.080     -0.178      0.859      -0.172       0.143\n",
      "x13           -0.0041      0.054     -0.076      0.939      -0.110       0.102\n",
      "x14           -0.0139      0.052     -0.265      0.791      -0.116       0.089\n",
      "x15            0.1646      0.057      2.897      0.004       0.053       0.276\n",
      "==============================================================================\n",
      "McFadden's R²: 0.1216\n"
     ]
    }
   ],
   "source": [
    "import statsmodels.api as sm\n",
    "import numpy as np\n",
    "X_train_sm = sm.add_constant(X_train)\n",
    "\n",
    "logit_model = sm.Logit(y_train, X_train_sm).fit()\n",
    "\n",
    "print(logit_model.summary())\n",
    "\n",
    "llf = logit_model.llf  \n",
    "llnull = logit_model.llnull  \n",
    "\n",
    "mcfadden_r2 = 1 - (llf / llnull)\n",
    "print(f\"McFadden's R²: {mcfadden_r2:.4f}\") \n"
   ]
  },
  {
   "cell_type": "code",
   "execution_count": null,
   "metadata": {},
   "outputs": [],
   "source": []
  }
 ],
 "metadata": {
  "kernelspec": {
   "display_name": "Python 3",
   "language": "python",
   "name": "python3"
  },
  "language_info": {
   "codemirror_mode": {
    "name": "ipython",
    "version": 3
   },
   "file_extension": ".py",
   "mimetype": "text/x-python",
   "name": "python",
   "nbconvert_exporter": "python",
   "pygments_lexer": "ipython3",
   "version": "3.12.4"
  }
 },
 "nbformat": 4,
 "nbformat_minor": 2
}
